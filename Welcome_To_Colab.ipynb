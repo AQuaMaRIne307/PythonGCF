{
  "cells": [
    {
      "cell_type": "markdown",
      "metadata": {
        "id": "view-in-github",
        "colab_type": "text"
      },
      "source": [
        "<a href=\"https://colab.research.google.com/github/AQuaMaRIne307/PythonGCF/blob/main/Welcome_To_Colab.ipynb\" target=\"_parent\"><img src=\"https://colab.research.google.com/assets/colab-badge.svg\" alt=\"Open In Colab\"/></a>"
      ]
    },
    {
      "cell_type": "code",
      "source": [
        "!pip install fpdf"
      ],
      "metadata": {
        "id": "nrTDaiz5GYHY"
      },
      "execution_count": null,
      "outputs": []
    },
    {
      "cell_type": "code",
      "source": [
        "!pip install numpy"
      ],
      "metadata": {
        "id": "mkYDfi1NGJ2Y"
      },
      "execution_count": null,
      "outputs": []
    },
    {
      "cell_type": "code",
      "source": [
        "import numpy as np\n",
        "\n",
        "#Create a 1D array\n",
        "a = np.array([1, 2, 3])\n",
        "\n",
        "#Create a 2D array\n",
        "b = np.array([[1, 2], [3, 4]])\n",
        "\n",
        "#Print the shape of the arrays\n",
        "print(a.shape)\n",
        "print(b.shape)\n",
        "\n",
        "#Print the data type of the 2D array\n",
        "print(b.dtype)"
      ],
      "metadata": {
        "id": "-KyTQ9l-GS2w"
      },
      "execution_count": null,
      "outputs": []
    },
    {
      "cell_type": "code",
      "source": [
        "print(np.zeros((3,)))\n",
        "print(np.ones((3,)))\n",
        "print(np.eye(3))\n",
        "print(np.arange(1,10,2))\n",
        "print(np.linspace(0,1,5))\n",
        "#Array manipulation\n",
        "a = np.array([[1, 2, 3], [4, 5, 6]])\n",
        "#Indexing and Slicing\n",
        "print(a[0, 1])\n",
        "print(a[:, 1])\n",
        "print(a[1, :])\n",
        "#Reshape & Flatten\n",
        "print(a.reshape(3,2))\n",
        "print(a.flatten())"
      ],
      "metadata": {
        "id": "sj9b_a4zG27g"
      },
      "execution_count": null,
      "outputs": []
    },
    {
      "cell_type": "code",
      "source": [
        "import numpy as np\n",
        "\n",
        "a = np.array([1, 2, 3])\n",
        "b = np.array([10, 20, 30])\n",
        "\n",
        "print(a + b)           # [11 22 33]\n",
        "print(a * 2)           # [2 4 6]\n",
        "print(np.sqrt(a))      # [1. 1.41 1.73]\n",
        "#✅ Broadcasting Example:\n",
        "a = np.array([[1], [2], [3]])\n",
        "b = np.array([10, 20, 30])\n",
        "print(a + b)\n",
        "# Each row of `a` is broadcast over `b`"
      ],
      "metadata": {
        "id": "UY-eSY3RMAIg"
      },
      "execution_count": null,
      "outputs": []
    },
    {
      "cell_type": "code",
      "source": [
        "#Aggregate Function\n",
        "a = np.array([[1, 2], [3, 4]])\n",
        "print(a.sum())\n",
        "print(a.mean())\n",
        "print(a.max(axis=0))\n",
        "print(np.median(a))"
      ],
      "metadata": {
        "id": "ImeOfsCGN_uf"
      },
      "execution_count": null,
      "outputs": []
    },
    {
      "cell_type": "markdown",
      "source": [
        "# **Pandas:Powerful Data Analysis Library**"
      ],
      "metadata": {
        "id": "0mQv88-CboeP"
      }
    },
    {
      "cell_type": "code",
      "source": [
        "import pandas as pd\n",
        "#1. Series: 1D labeled array\n",
        "s = pd.Series([10,20,30],index=[\"a\",\"b\",\"c\"])\n",
        "print(s[\"b\"])\n",
        "print(s.values)\n",
        "print(type(s))\n",
        "#2. Dataframe: 2D Table with Labeled Rows & Columns\n",
        "data = {\n",
        "'Name’: ['Alice’, 'Bob’, 'Charlie'],\n",
        "'Age’: [25, 30, 35],\n",
        "'City’: ['New York’, 'San Francisco’, 'Los Angeles']}\n",
        "df = pd.DataFrame(data)\n",
        "print(df.head())\n",
        "\n",
        "#2. Dataframe: 2D Table with Labeled Rows & Columns\n",
        "data = {\n",
        "'Name’: ['Alice’, 'Bob’, 'Charlie'],\n",
        "'Age’: [25, 30, 35],\n",
        "'City’: ['New York’, 'San Francisco’, 'Los Angeles']}\n",
        "df = pd.DataFrame(data)\n",
        "print(df.head())\n",
        "\n",
        "#3. Data Selection\n",
        "#Column access\n",
        "print(df['Name'])\n",
        "#Row access\n",
        "print(df.loc[1])\n",
        "print(df.iloc[1])\n",
        "#Conditional filtering\n",
        "print(df[df['Age'] > 30])\n",
        "\n",
        "#4. Dataframe Operations\n",
        "df[\"Grade\"] = [\"B\", \"A\", \"A+\"]\n",
        "df.drop(\"Age\", axis=1, inplace=True)\n",
        "df.rename(columns={\"Score\": \"Marks\"}, inplace=True)\n",
        "print(df)"
      ],
      "metadata": {
        "id": "4Ny9FUUbbu3_"
      },
      "execution_count": null,
      "outputs": []
    }
  ],
  "metadata": {
    "colab": {
      "name": "Welcome To Colab",
      "provenance": [],
      "include_colab_link": true
    },
    "kernelspec": {
      "display_name": "Python 3",
      "name": "python3"
    }
  },
  "nbformat": 4,
  "nbformat_minor": 0
}